{
  "nbformat": 4,
  "nbformat_minor": 0,
  "metadata": {
    "colab": {
      "provenance": [],
      "authorship_tag": "ABX9TyPWal1gqEyqa+nZc7i6z+WY",
      "include_colab_link": true
    },
    "kernelspec": {
      "name": "python3",
      "display_name": "Python 3"
    },
    "language_info": {
      "name": "python"
    }
  },
  "cells": [
    {
      "cell_type": "markdown",
      "metadata": {
        "id": "view-in-github",
        "colab_type": "text"
      },
      "source": [
        "<a href=\"https://colab.research.google.com/github/madhu143binnu/Class-Calculator/blob/main/Calculator_Class_.ipynb\" target=\"_parent\"><img src=\"https://colab.research.google.com/assets/colab-badge.svg\" alt=\"Open In Colab\"/></a>"
      ]
    },
    {
      "cell_type": "code",
      "execution_count": 1,
      "metadata": {
        "colab": {
          "base_uri": "https://localhost:8080/"
        },
        "id": "hdaJKPUZmbif",
        "outputId": "1a3c5ec1-1298-4d15-92c0-bfced4dd79ca"
      },
      "outputs": [
        {
          "output_type": "stream",
          "name": "stdout",
          "text": [
            "104\n",
            "84\n",
            "940\n",
            "9.4\n"
          ]
        }
      ],
      "source": [
        "class Calculator:\n",
        "\n",
        "    def __init__(self,x,y):\n",
        "        self.x = x\n",
        "        self.y = y\n",
        "    def add(self):\n",
        "        return self.y+self.x\n",
        "    def subtract(self):\n",
        "        return self.y-self.x\n",
        "    def multiply(self):\n",
        "        return self.y*self.x\n",
        "    def divide(self):\n",
        "        return self.y/self.x\n",
        "\n",
        "obj = Calculator(10,94)\n",
        "print(obj.add())\n",
        "print(obj.subtract())\n",
        "print(obj.multiply())\n",
        "print(obj.divide())\n"
      ]
    }
  ]
}