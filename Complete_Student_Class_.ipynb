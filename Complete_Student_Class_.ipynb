{
  "nbformat": 4,
  "nbformat_minor": 0,
  "metadata": {
    "colab": {
      "provenance": [],
      "authorship_tag": "ABX9TyPOXZI62neU2sllNV1PS8zv",
      "include_colab_link": true
    },
    "kernelspec": {
      "name": "python3",
      "display_name": "Python 3"
    },
    "language_info": {
      "name": "python"
    }
  },
  "cells": [
    {
      "cell_type": "markdown",
      "metadata": {
        "id": "view-in-github",
        "colab_type": "text"
      },
      "source": [
        "<a href=\"https://colab.research.google.com/github/madhu143binnu/Class-Calculator/blob/main/Complete_Student_Class_.ipynb\" target=\"_parent\"><img src=\"https://colab.research.google.com/assets/colab-badge.svg\" alt=\"Open In Colab\"/></a>"
      ]
    },
    {
      "cell_type": "code",
      "execution_count": 1,
      "metadata": {
        "colab": {
          "base_uri": "https://localhost:8080/"
        },
        "id": "5MUkAUkTnOP6",
        "outputId": "f19a4648-ea85-46b5-a3e0-5aeebd95864c"
      },
      "outputs": [
        {
          "output_type": "stream",
          "name": "stdout",
          "text": [
            "None\n",
            "Madhu\n",
            "None\n",
            "1000\n"
          ]
        }
      ],
      "source": [
        "class Student:\n",
        "    def __init__(self,name=None,roll_num=None):\n",
        "        self.__student_name=name\n",
        "        self.__roll_number=roll_num\n",
        "    def setName(self,name):\n",
        "        self.__student_name=name\n",
        "    def getName(self):\n",
        "        return(self.__student_name)\n",
        "    def setRollNumber(self,roll_num):\n",
        "        self.__roll_number=roll_num\n",
        "    def getRollNumber(self):\n",
        "        return(self.__roll_number)\n",
        "\n",
        "s1=Student()\n",
        "print(s1.getName())\n",
        "s1.setName(\"Madhu\")\n",
        "print(s1.getName())\n",
        "print(s1.getRollNumber())\n",
        "s1.setRollNumber(1000)\n",
        "print(s1.getRollNumber())"
      ]
    }
  ]
}